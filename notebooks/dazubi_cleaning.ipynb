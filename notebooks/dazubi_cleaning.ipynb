{
 "cells": [
  {
   "cell_type": "code",
   "execution_count": null,
   "id": "1d10e139",
   "metadata": {},
   "outputs": [],
   "source": [
    "import pandas as pd\n",
    "\n",
    "df = pd.read_csv('../data/dazubi_berufe.csv', index_col=0)"
   ]
  },
  {
   "cell_type": "code",
   "execution_count": 5,
   "id": "a3565b72",
   "metadata": {},
   "outputs": [],
   "source": [
    "df = df[df['Jahr'] >= 2010]"
   ]
  },
  {
   "cell_type": "code",
   "execution_count": 21,
   "id": "02b60a72",
   "metadata": {},
   "outputs": [
    {
     "data": {
      "text/plain": [
       "Jahr                                                                     0\n",
       "Region                                                                   0\n",
       "Beruf                                                                    0\n",
       "Deutsche Männer                                                          0\n",
       "Deutsche Frauen                                                          0\n",
       "Ausländer/-innen Männer                                                  0\n",
       "Ausländer/-innen Frauen                                                  0\n",
       "Höchster allgemeinbildender Schulabschluss ohne Hauptschulabschluss      0\n",
       "Höchster allgemeinbildender Schulabschluss mit Hauptschulabschluss       0\n",
       "Höchster allgemeinbildender Schulabschluss Realschulabschluss            0\n",
       "Höchster allgemeinbildender Schulabschluss Studienberechtigung           0\n",
       "Höchster allgemeinbildender Schulabschluss nicht zuzuordnen              0\n",
       "davon (Mehrfachnennung möglich): BQM                                     0\n",
       "davon (Mehrfachnennung möglich): BVM                                     0\n",
       "davon (Mehrfachnennung möglich): BVJ                                     0\n",
       "davon (Mehrfachnennung möglich): BGJ                                     0\n",
       "davon (Mehrfachnennung möglich): BFS                                     0\n",
       "darunter: Neuabschlüsse in Teilzeitberufsausbildungen Männer             0\n",
       "darunter: Neuabschlüsse in Teilzeitberufsausbildungen Frauen             0\n",
       "darunter: Zugehörigkeit der Ausbildungsstätte zum öffentlichen Dienst    0\n",
       "darunter: überwiegend öffentlich finanziert                              0\n",
       "im Alter von: 16 und jünger                                              0\n",
       "im Alter von: 17.0                                                       0\n",
       "im Alter von: 18.0                                                       0\n",
       "im Alter von: 19.0                                                       0\n",
       "im Alter von: 20.0                                                       0\n",
       "im Alter von: 21.0                                                       0\n",
       "im Alter von: 22.0                                                       0\n",
       "im Alter von: 23.0                                                       0\n",
       "im Alter von: 24 bis 39                                                  0\n",
       "im Alter von: 40 und älter                                               0\n",
       "Vorzeitige Vertragslösungen Insgesamt                                    0\n",
       "davon gelöst: innerhalb der Probezeit (max. 4 Monate)                    0\n",
       "davon gelöst: nach der Probezeit, innerhalb der ersten 12 Monate         0\n",
       "davon gelöst: nach 13 bis 24 Monaten                                     0\n",
       "davon gelöst: nach 25 bis 36 Monaten                                     0\n",
       "davon gelöst: nach mehr als 36 Monaten                                   0\n",
       "Vorzeitige Vertragslösungen Deutsche                                     0\n",
       "Vorzeitige Vertragslösungen Ausländer/-innen                             0\n",
       "dtype: int64"
      ]
     },
     "execution_count": 21,
     "metadata": {},
     "output_type": "execute_result"
    }
   ],
   "source": [
    "columns_to_drop = []\n",
    "columns_to_select = [\n",
    "\t'Jahr', 'Region', 'Beruf', 'Deutsche Männer', 'Deutsche Frauen', 'Ausländer/-innen Männer', 'Ausländer/-innen Frauen',\n",
    "    'Höchster allgemeinbildender Schulabschluss ohne Hauptschulabschluss',\n",
    "    'Höchster allgemeinbildender Schulabschluss mit Hauptschulabschluss',\n",
    "    'Höchster allgemeinbildender Schulabschluss Realschulabschluss',\n",
    "    'Höchster allgemeinbildender Schulabschluss Studienberechtigung',\n",
    "    'Höchster allgemeinbildender Schulabschluss nicht zuzuordnen',\n",
    "    'davon (Mehrfachnennung möglich): BQM',\n",
    "    'davon (Mehrfachnennung möglich): BVM',\n",
    "    'davon (Mehrfachnennung möglich): BVJ',\n",
    "    'davon (Mehrfachnennung möglich): BGJ',\n",
    "    'davon (Mehrfachnennung möglich): BFS',\n",
    "    'darunter: Neuabschlüsse in Teilzeitberufsausbildungen Männer',\n",
    "    'darunter: Neuabschlüsse in Teilzeitberufsausbildungen Frauen',\n",
    "    'darunter: Zugehörigkeit der Ausbildungsstätte zum öffentlichen Dienst',\n",
    "    'darunter: überwiegend öffentlich finanziert',\n",
    "    'im Alter von: 16 und jünger',\n",
    "    'im Alter von: 17.0',\n",
    "    'im Alter von: 18.0',\n",
    "    'im Alter von: 19.0',\n",
    "    'im Alter von: 20.0',\n",
    "    'im Alter von: 21.0',\n",
    "    'im Alter von: 22.0',\n",
    "    'im Alter von: 23.0',\n",
    "    'im Alter von: 24 bis 39',\n",
    "    'im Alter von: 40 und älter',\n",
    "    'Vorzeitige Vertragslösungen Insgesamt',\n",
    "    'davon gelöst: innerhalb der Probezeit (max. 4 Monate)',\n",
    "    'davon gelöst: nach der Probezeit, innerhalb der ersten 12 Monate',\n",
    "    'davon gelöst: nach 13 bis 24 Monaten',\n",
    "    'davon gelöst: nach 25 bis 36 Monaten',\n",
    "    'davon gelöst: nach mehr als 36 Monaten',\n",
    "    'Vorzeitige Vertragslösungen Deutsche',\n",
    "    'Vorzeitige Vertragslösungen Ausländer/-innen',\n",
    "]\n",
    "df_selcted = df[columns_to_select]\n",
    "df_selcted.isnull().sum()"
   ]
  },
  {
   "cell_type": "code",
   "execution_count": 25,
   "id": "4e7262eb",
   "metadata": {},
   "outputs": [
    {
     "name": "stderr",
     "output_type": "stream",
     "text": [
      "/tmp/ipykernel_2626004/954002417.py:1: SettingWithCopyWarning: \n",
      "A value is trying to be set on a copy of a slice from a DataFrame.\n",
      "Try using .loc[row_indexer,col_indexer] = value instead\n",
      "\n",
      "See the caveats in the documentation: https://pandas.pydata.org/pandas-docs/stable/user_guide/indexing.html#returning-a-view-versus-a-copy\n",
      "  df_selcted['Beruf_clean'] = df_selcted['Beruf'].str.replace(r'\\s*\\(.*\\)', '', regex=True).str.strip()\n"
     ]
    }
   ],
   "source": [
    "df_selcted['Beruf_clean'] = df_selcted['Beruf'].str.replace(r'\\s*\\(.*\\)', '', regex=True).str.strip()\n",
    "\n",
    "df_grouped = df_selcted.groupby(['Jahr', 'Region', 'Beruf_clean'], as_index=False).sum(numeric_only=True)\n",
    "df_grouped.to_csv('../data/dazubi_grouped_berufe.csv')\n"
   ]
  },
  {
   "cell_type": "code",
   "execution_count": null,
   "id": "a17dea4f",
   "metadata": {},
   "outputs": [],
   "source": []
  }
 ],
 "metadata": {
  "kernelspec": {
   "display_name": ".venv",
   "language": "python",
   "name": "python3"
  },
  "language_info": {
   "codemirror_mode": {
    "name": "ipython",
    "version": 3
   },
   "file_extension": ".py",
   "mimetype": "text/x-python",
   "name": "python",
   "nbconvert_exporter": "python",
   "pygments_lexer": "ipython3",
   "version": "3.13.3"
  }
 },
 "nbformat": 4,
 "nbformat_minor": 5
}
