{
 "cells": [
  {
   "cell_type": "code",
   "execution_count": 1,
   "id": "82f7c1da",
   "metadata": {},
   "outputs": [
    {
     "name": "stderr",
     "output_type": "stream",
     "text": [
      "2025/06/03 22:13:40 INFO mlflow.tracking.fluent: Experiment with name 'model_pipeline' does not exist. Creating a new experiment.\n"
     ]
    }
   ],
   "source": [
    "%matplotlib inline\n",
    "import sys\n",
    "sys.path.append('../modeling')\n",
    "from config import TRACKING_URI\n",
    "import mlflow\n",
    "\n",
    "# set the experiment id\n",
    "mlflow.set_tracking_uri(TRACKING_URI)\n",
    "mlflow.set_experiment(experiment_name='model_pipeline')\n",
    "mlflow.autolog()"
   ]
  },
  {
   "cell_type": "code",
   "execution_count": 2,
   "id": "dc0ffb2c",
   "metadata": {},
   "outputs": [
    {
     "name": "stderr",
     "output_type": "stream",
     "text": [
      "2025/06/03 22:13:41 INFO mlflow.tracking.fluent: Autologging successfully enabled for sklearn.\n"
     ]
    }
   ],
   "source": [
    "import pandas as pd\n",
    "from sklearn.model_selection import train_test_split\n",
    "\n",
    "df = pd.read_csv('../data/synth_combined.csv', index_col=0)\n",
    "col_target = 'dropped_out'\n",
    "X = df.drop(col_target, axis=1)\n",
    "# MLFlow doesn't like a series for the target, so convert it to numpy - for sklearn it doesn't matter\n",
    "y = df[col_target].to_numpy()\n",
    "\n",
    "X_train, X_test, y_train, y_test = train_test_split(X, y, test_size=0.2, stratify=y)"
   ]
  },
  {
   "cell_type": "code",
   "execution_count": 3,
   "id": "ac0c8fda",
   "metadata": {},
   "outputs": [
    {
     "name": "stdout",
     "output_type": "stream",
     "text": [
      "n_iterations: 4\n",
      "n_required_iterations: 4\n",
      "n_possible_iterations: 4\n",
      "min_resources_: 41718\n",
      "max_resources_: 1126400\n",
      "aggressive_elimination: True\n",
      "factor: 3\n",
      "----------\n",
      "iter: 0\n",
      "n_candidates: 32\n",
      "n_resources: 41718\n",
      "Fitting 5 folds for each of 32 candidates, totalling 160 fits\n",
      "----------\n",
      "iter: 1\n",
      "n_candidates: 11\n",
      "n_resources: 125154\n",
      "Fitting 5 folds for each of 11 candidates, totalling 55 fits\n",
      "----------\n",
      "iter: 2\n",
      "n_candidates: 4\n",
      "n_resources: 375462\n",
      "Fitting 5 folds for each of 4 candidates, totalling 20 fits\n",
      "----------\n",
      "iter: 3\n",
      "n_candidates: 2\n",
      "n_resources: 1126386\n",
      "Fitting 5 folds for each of 2 candidates, totalling 10 fits\n"
     ]
    },
    {
     "name": "stderr",
     "output_type": "stream",
     "text": [
      "2025/06/03 22:15:22 INFO mlflow.utils.autologging_utils: Created MLflow autologging run with ID 'c41eb318957042aa98c0be5d18e791e8', which will track hyperparameters, performance metrics, model artifacts, and lineage information for the current sklearn workflow\n",
      "2025/06/03 22:15:49 WARNING mlflow.utils.autologging_utils: MLflow autologging encountered a warning: \"/home/boesi/Projekte/neue-fische/FinApprenticeship/.venv/lib/python3.13/site-packages/mlflow/types/utils.py:452: UserWarning: Hint: Inferred schema contains integer column(s). Integer columns in Python cannot represent missing values. If your input data contains missing values at inference time, it will be encoded as floats and will cause a schema enforcement error. The best way to avoid this problem is to infer the model schema based on a realistic data sample (training dataset) that includes missing values. Alternatively, you can declare integer columns as doubles (float64) whenever these columns may have missing values. See `Handling Integers With Missing Values <https://www.mlflow.org/docs/latest/models.html#handling-integers-with-missing-values>`_ for more details.\"\n",
      "2025/06/03 22:16:06 WARNING mlflow.utils.autologging_utils: MLflow autologging encountered a warning: \"/home/boesi/Projekte/neue-fische/FinApprenticeship/.venv/lib/python3.13/site-packages/mlflow/types/utils.py:452: UserWarning: Hint: Inferred schema contains integer column(s). Integer columns in Python cannot represent missing values. If your input data contains missing values at inference time, it will be encoded as floats and will cause a schema enforcement error. The best way to avoid this problem is to infer the model schema based on a realistic data sample (training dataset) that includes missing values. Alternatively, you can declare integer columns as doubles (float64) whenever these columns may have missing values. See `Handling Integers With Missing Values <https://www.mlflow.org/docs/latest/models.html#handling-integers-with-missing-values>`_ for more details.\"\n"
     ]
    },
    {
     "name": "stdout",
     "output_type": "stream",
     "text": [
      "🏃 View run marvelous-roo-211 at: http://mlflow.fa.berufsnavigator.de/#/experiments/783766249587513434/runs/c41eb318957042aa98c0be5d18e791e8\n",
      "🧪 View experiment at: http://mlflow.fa.berufsnavigator.de/#/experiments/783766249587513434\n"
     ]
    },
    {
     "ename": "ImportError",
     "evalue": "cannot import name 'check_classification_binary' from 'utils' (/home/boesi/Projekte/neue-fische/FinApprenticeship/notebooks/../modeling/utils.py)",
     "output_type": "error",
     "traceback": [
      "\u001b[31m---------------------------------------------------------------------------\u001b[39m",
      "\u001b[31mImportError\u001b[39m                               Traceback (most recent call last)",
      "\u001b[36mCell\u001b[39m\u001b[36m \u001b[39m\u001b[32mIn[3]\u001b[39m\u001b[32m, line 38\u001b[39m\n\u001b[32m     35\u001b[39m model = HalvingGridSearchCV(pipe, param, aggressive_elimination=\u001b[38;5;28;01mTrue\u001b[39;00m, scoring=\u001b[33m'\u001b[39m\u001b[33mf1\u001b[39m\u001b[33m'\u001b[39m, verbose=\u001b[32m1\u001b[39m, n_jobs=-\u001b[32m1\u001b[39m)\n\u001b[32m     36\u001b[39m model.fit(X_train, y_train)\n\u001b[32m---> \u001b[39m\u001b[32m38\u001b[39m \u001b[38;5;28;01mfrom\u001b[39;00m\u001b[38;5;250m \u001b[39m\u001b[34;01mutils\u001b[39;00m\u001b[38;5;250m \u001b[39m\u001b[38;5;28;01mimport\u001b[39;00m check_classification_binary\n\u001b[32m     39\u001b[39m check_classification_binary(model, X_train, X_test, y_train, y_test)\n",
      "\u001b[31mImportError\u001b[39m: cannot import name 'check_classification_binary' from 'utils' (/home/boesi/Projekte/neue-fische/FinApprenticeship/notebooks/../modeling/utils.py)"
     ]
    }
   ],
   "source": [
    "from sklearn.experimental import enable_halving_search_cv\n",
    "from sklearn.pipeline import Pipeline\n",
    "from sklearn.model_selection import HalvingGridSearchCV\n",
    "from sklearn.preprocessing import OneHotEncoder\n",
    "from sklearn.linear_model import LogisticRegression\n",
    "\n",
    "param_default = [{\n",
    "    'C': [1.0],\n",
    "    'class_weight': [None],\n",
    "    'dual': [False],\n",
    "    'fit_intercept': [True],\n",
    "    'intercept_scaling': [1],\n",
    "    'l1_ratio': [None],\n",
    "    'max_iter': [100],\n",
    "    'multi_class': ['deprecated'],\n",
    "    'penalty': ['l2'],\n",
    "    'random_state': [None],\n",
    "    'solver': ['lbfgs'],\n",
    "    'tol': [0.0001],\n",
    "    'warm_start': [False]\n",
    "}]\n",
    "\n",
    "param = [{\n",
    "    'model_logreg__penalty': ['l2', 'l1'],\n",
    "    'model_logreg__C': [0.01, 0.1, 1, 10],\n",
    "    'model_logreg__solver': ['liblinear', 'saga'],\n",
    "    'model_logreg__max_iter': [200, 500]\n",
    "}]\n",
    "\n",
    "pipe = Pipeline([\n",
    "    ('enc_onehot', OneHotEncoder(drop='first')),\n",
    "    ('model_logreg', LogisticRegression())\n",
    "])\n",
    "\n",
    "model = HalvingGridSearchCV(pipe, param, aggressive_elimination=True, scoring='f1', verbose=1, n_jobs=-1)\n",
    "model.fit(X_train, y_train)\n",
    "\n",
    "from utils import check_classification_binary\n",
    "check_classification_binary(model, X_train, X_test, y_train, y_test)"
   ]
  }
 ],
 "metadata": {
  "kernelspec": {
   "display_name": ".venv",
   "language": "python",
   "name": "python3"
  },
  "language_info": {
   "codemirror_mode": {
    "name": "ipython",
    "version": 3
   },
   "file_extension": ".py",
   "mimetype": "text/x-python",
   "name": "python",
   "nbconvert_exporter": "python",
   "pygments_lexer": "ipython3",
   "version": "3.13.3"
  }
 },
 "nbformat": 4,
 "nbformat_minor": 5
}
