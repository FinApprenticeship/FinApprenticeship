{
 "cells": [
  {
   "cell_type": "markdown",
   "id": "04fd38b8",
   "metadata": {},
   "source": [
    "# Tableau-Example: Preperation"
   ]
  },
  {
   "cell_type": "code",
   "execution_count": 2,
   "id": "8d4a2f61",
   "metadata": {},
   "outputs": [],
   "source": [
    "import os\n",
    "import pandas as pd\n",
    "\n",
    "# Daten einlesen\n",
    "df = pd.read_csv(\"../data/dazubi_grouped_berufe.csv\")\n",
    "df_cleaned = df[[\"Jahr\", \"Region\", \"Beruf_clean\", \"Vorzeitige Vertragslösungen Insgesamt\"]].dropna()\n",
    "\n",
    "# Ordner erstellen, falls er nicht existiert\n",
    "os.makedirs(\"../export\", exist_ok=True)\n",
    "\n",
    "# Datei speichern\n",
    "df_cleaned.to_csv(\"../export/ausbildungsabbrueche.csv\", index=False)"
   ]
  }
 ],
 "metadata": {
  "kernelspec": {
   "display_name": ".venv",
   "language": "python",
   "name": "python3"
  },
  "language_info": {
   "codemirror_mode": {
    "name": "ipython",
    "version": 3
   },
   "file_extension": ".py",
   "mimetype": "text/x-python",
   "name": "python",
   "nbconvert_exporter": "python",
   "pygments_lexer": "ipython3",
   "version": "3.11.3"
  }
 },
 "nbformat": 4,
 "nbformat_minor": 5
}
