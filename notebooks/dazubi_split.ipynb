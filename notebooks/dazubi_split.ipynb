{
 "cells": [
  {
   "cell_type": "markdown",
   "id": "5a74fd69",
   "metadata": {},
   "source": [
    "# Splitting DAZUBI data and checking the figures"
   ]
  },
  {
   "cell_type": "code",
   "execution_count": 8,
   "id": "31b7499d",
   "metadata": {},
   "outputs": [],
   "source": [
    "import pandas as pd\n",
    "import os\n",
    "dir_data = '../data/pickle'\n",
    "if not os.path.exists(dir_data):\n",
    "    os.makedirs(dir_data, exist_ok=True)\n"
   ]
  },
  {
   "cell_type": "markdown",
   "id": "bb02e90a",
   "metadata": {},
   "source": [
    "## Split DAZUBI data based on the column „Region“"
   ]
  },
  {
   "cell_type": "code",
   "execution_count": 9,
   "id": "c70d2e86",
   "metadata": {},
   "outputs": [],
   "source": [
    "df_complete = pd.read_pickle(dir_data + '/dazubi_complete_2.pickle')\n"
   ]
  },
  {
   "cell_type": "code",
   "execution_count": 10,
   "id": "54474c87",
   "metadata": {},
   "outputs": [],
   "source": [
    "df_regionen = pd.DataFrame(df_complete['Region'].unique())\n"
   ]
  },
  {
   "cell_type": "code",
   "execution_count": 11,
   "id": "ad02be5a",
   "metadata": {},
   "outputs": [],
   "source": [
    "combined_bundeslaender = ['Deutschland', 'Westdeutschland', 'Ostdeutschland', 'Alte Länder (ab 1991 mit Berlin-Ost)', 'Neue Länder (ohne Berlin)']\n",
    "\n",
    "df_bundeslaender_combined = df_complete[df_complete['Region'].isin(combined_bundeslaender)]\n",
    "df_bundeslaender_combined.to_pickle(dir_data + '/dazubi_bundeslaender_combined.pickle')\n",
    "df_bundeslaender = df_complete[~df_complete['Region'].isin(combined_bundeslaender)]\n",
    "df_bundeslaender.to_pickle(dir_data + '/dazubi_bundeslaender.pickle')\n"
   ]
  },
  {
   "cell_type": "markdown",
   "id": "2063450f",
   "metadata": {},
   "source": [
    "## Split DAZUBI data based on the column „Beruf“"
   ]
  },
  {
   "cell_type": "code",
   "execution_count": 12,
   "id": "51c7cc3d",
   "metadata": {},
   "outputs": [],
   "source": [
    "\n",
    "df_filter_insgesamt = df_bundeslaender['Beruf'].str.contains('insgesamt')\n",
    "df_insgesamt = df_bundeslaender[df_filter_insgesamt]\n",
    "df_insgesamt.to_pickle(dir_data + '/dazubi_insgesamt.pickle')\n",
    "\n",
    "df_berufe = df_bundeslaender[~df_filter_insgesamt]\n",
    "df_berufe.to_pickle(dir_data + '/dazubi_berufe.pickle')\n"
   ]
  },
  {
   "cell_type": "code",
   "execution_count": 15,
   "id": "d86cda14",
   "metadata": {},
   "outputs": [],
   "source": [
    "df_columns = pd.DataFrame(df_berufe.columns.sort_values())"
   ]
  },
  {
   "cell_type": "code",
   "execution_count": null,
   "id": "a1d3eec3",
   "metadata": {},
   "outputs": [
    {
     "name": "stderr",
     "output_type": "stream",
     "text": [
      "/tmp/ipykernel_152261/176621945.py:1: DtypeWarning: Columns (137) have mixed types. Specify dtype option on import or set low_memory=False.\n",
      "  df_complete_old = pd.read_csv('../data/dazubi_complete.csv')\n"
     ]
    }
   ],
   "source": [
    "df_complete_old = pd.read_csv('../data/dazubi_complete.csv')\n",
    "df_names = pd.read_excel('../data/old_names.xlsx')\n",
    "column_renamer = df_names.set_index('old_name')['new_name'].to_dict()\n",
    "df_complete_old.rename(columns=column_renamer)\n",
    "df_complete_old.to_pickle(dir_data + '/dazubi_complete.pickle')\n",
    "# pd.DataFrame(df_complete_old.columns).to_excel('../data/old_names.xlsx')"
   ]
  },
  {
   "cell_type": "code",
   "execution_count": null,
   "id": "af92b595",
   "metadata": {},
   "outputs": [],
   "source": []
  }
 ],
 "metadata": {
  "kernelspec": {
   "display_name": ".venv",
   "language": "python",
   "name": "python3"
  },
  "language_info": {
   "codemirror_mode": {
    "name": "ipython",
    "version": 3
   },
   "file_extension": ".py",
   "mimetype": "text/x-python",
   "name": "python",
   "nbconvert_exporter": "python",
   "pygments_lexer": "ipython3",
   "version": "3.13.3"
  }
 },
 "nbformat": 4,
 "nbformat_minor": 5
}
