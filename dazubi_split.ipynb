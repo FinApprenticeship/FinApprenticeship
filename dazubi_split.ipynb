{
 "cells": [
  {
   "cell_type": "code",
   "execution_count": 10,
   "id": "31b7499d",
   "metadata": {},
   "outputs": [],
   "source": [
    "import pandas as pd\n",
    "dir_data = 'data'"
   ]
  },
  {
   "cell_type": "code",
   "execution_count": null,
   "id": "ad02be5a",
   "metadata": {},
   "outputs": [],
   "source": [
    "df_complete = pd.read_csv(dir_data + '/dazubi_complete.csv', index_col=0)\n",
    "\n",
    "df_filter_deutschland = df_complete['Region'] == 'Deutschland'\n",
    "df_deutschland = df_complete[df_filter_deutschland]\n",
    "df_deutschland.to_csv(dir_data + '/dazubi_deutschland.csv')\n",
    "\n",
    "df_filter_westdeutschland = df_complete['Region'] == 'Westdeutschland'\n",
    "df_westdeutschland = df_complete[df_filter_westdeutschland]\n",
    "df_westdeutschland.to_csv(dir_data + '/dazubi_westdeutschland.csv')\n",
    "\n",
    "df_filter_ostdeutschland = df_complete['Region'] == 'Ostdeutschland'\n",
    "df_ostdeutschland = df_complete[df_filter_ostdeutschland]\n",
    "df_ostdeutschland.to_csv(dir_data + '/dazubi_ostdeutschland.csv')\n",
    "\n",
    "df_bundeslaender = df_complete[~(df_filter_deutschland | df_filter_westdeutschland | df_filter_ostdeutschland)]\n",
    "df_bundeslaender.to_csv(dir_data + '/dazubi_bundeslaender.csv')\n"
   ]
  }
 ],
 "metadata": {
  "kernelspec": {
   "display_name": ".venv",
   "language": "python",
   "name": "python3"
  },
  "language_info": {
   "codemirror_mode": {
    "name": "ipython",
    "version": 3
   },
   "file_extension": ".py",
   "mimetype": "text/x-python",
   "name": "python",
   "nbconvert_exporter": "python",
   "pygments_lexer": "ipython3",
   "version": "3.13.3"
  }
 },
 "nbformat": 4,
 "nbformat_minor": 5
}
